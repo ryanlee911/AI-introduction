{
 "cells": [
  {
   "cell_type": "code",
   "execution_count": 1,
   "id": "ee2faf32-99df-4576-8e84-74ce66d585ae",
   "metadata": {},
   "outputs": [
    {
     "name": "stdout",
     "output_type": "stream",
     "text": [
      "데이터 미리보기:\n",
      "   PassengerId  Survived  Pclass  \\\n",
      "0            1         0       3   \n",
      "1            2         1       1   \n",
      "2            3         1       3   \n",
      "3            4         1       1   \n",
      "4            5         0       3   \n",
      "\n",
      "                                                Name     Sex   Age  SibSp  \\\n",
      "0                            Braund, Mr. Owen Harris    male  22.0      1   \n",
      "1  Cumings, Mrs. John Bradley (Florence Briggs Th...  female  38.0      1   \n",
      "2                             Heikkinen, Miss. Laina  female  26.0      0   \n",
      "3       Futrelle, Mrs. Jacques Heath (Lily May Peel)  female  35.0      1   \n",
      "4                           Allen, Mr. William Henry    male  35.0      0   \n",
      "\n",
      "   Parch            Ticket     Fare Cabin Embarked  \n",
      "0      0         A/5 21171   7.2500   NaN        S  \n",
      "1      0          PC 17599  71.2833   C85        C  \n",
      "2      0  STON/O2. 3101282   7.9250   NaN        S  \n",
      "3      0            113803  53.1000  C123        S  \n",
      "4      0            373450   8.0500   NaN        S  \n"
     ]
    }
   ],
   "source": [
    "# 1. 데이터 로딩\n",
    "import pandas as pd\n",
    "\n",
    "# titanic 데이터셋 파일 경로 (파일명을 실제 경로로 변경하세요)\n",
    "file_path = \"titanic.csv\"\n",
    "df = pd.read_csv(file_path)\n",
    "\n",
    "# 데이터 미리보기\n",
    "print(\"데이터 미리보기:\")\n",
    "print(df.head())\n"
   ]
  },
  {
   "cell_type": "code",
   "execution_count": 3,
   "id": "538e2d2e-89b9-4b76-a36a-b07c890066e4",
   "metadata": {},
   "outputs": [
    {
     "name": "stdout",
     "output_type": "stream",
     "text": [
      "\n",
      "결측치 확인 (컬럼별 결측치 개수):\n",
      "PassengerId      0\n",
      "Survived         0\n",
      "Pclass           0\n",
      "Name             0\n",
      "Sex              0\n",
      "Age            177\n",
      "SibSp            0\n",
      "Parch            0\n",
      "Ticket           0\n",
      "Fare             0\n",
      "Cabin          687\n",
      "Embarked         2\n",
      "dtype: int64\n"
     ]
    }
   ],
   "source": [
    "# 2. 결측치 확인\n",
    "print(\"\\n결측치 확인 (컬럼별 결측치 개수):\")\n",
    "print(df.isnull().sum())\n"
   ]
  },
  {
   "cell_type": "code",
   "execution_count": 7,
   "id": "e482d0ad-5c1c-4409-8b99-db4dce0bc06a",
   "metadata": {},
   "outputs": [
    {
     "name": "stdout",
     "output_type": "stream",
     "text": [
      "\n",
      "결측치 처리 후 (Age 결측치 평균 대체):\n",
      "PassengerId      0\n",
      "Survived         0\n",
      "Pclass           0\n",
      "Name             0\n",
      "Sex              0\n",
      "Age              0\n",
      "SibSp            0\n",
      "Parch            0\n",
      "Ticket           0\n",
      "Fare             0\n",
      "Cabin          687\n",
      "Embarked         2\n",
      "dtype: int64\n"
     ]
    }
   ],
   "source": [
    "# 3. 결측치 처리 - Age 컬럼 결측치는 평균 나이로 채우기\n",
    "if 'Age' in df.columns:\n",
    "    df['Age'] = df['Age'].fillna(df['Age'].mean())\n",
    "    \n",
    "\n",
    "# 결측치 처리 후 다시 확인\n",
    "print(\"\\n결측치 처리 후 (Age 결측치 평균 대체):\")\n",
    "print(df.isnull().sum())\n"
   ]
  },
  {
   "cell_type": "code",
   "execution_count": 9,
   "id": "de531190-d7cb-4000-91b0-edfe6de1808d",
   "metadata": {},
   "outputs": [
    {
     "name": "stdout",
     "output_type": "stream",
     "text": [
      "\n",
      "레이블 분포 (변환 전):\n",
      "label\n",
      "0    549\n",
      "1    342\n",
      "Name: count, dtype: int64\n"
     ]
    }
   ],
   "source": [
    "# 4. 레이블 확인 (imbalanced data)\n",
    "# 과제에서는 df['label']을 사용한다고 했으므로, 만약 타이타닉 데이터셋의 타겟이 'Survived'라면 이름을 변경합니다.\n",
    "if 'Survived' in df.columns:\n",
    "    df.rename(columns={'Survived': 'label'}, inplace=True)\n",
    "\n",
    "print(\"\\n레이블 분포 (변환 전):\")\n",
    "print(df['label'].value_counts())\n"
   ]
  },
  {
   "cell_type": "code",
   "execution_count": 11,
   "id": "bf93fee5-ad80-439e-b450-95eb067aefe6",
   "metadata": {},
   "outputs": [
    {
     "name": "stdout",
     "output_type": "stream",
     "text": [
      "\n",
      "제거 후 컬럼 리스트:\n",
      "Index(['label', 'Pclass', 'Sex', 'Age', 'SibSp', 'Parch', 'Fare', 'Embarked'], dtype='object')\n"
     ]
    }
   ],
   "source": [
    "# 5. 불필요한 컬럼 제거\n",
    "# 일반적으로 타이타닉 데이터에서 분석에 크게 기여하지 않는 컬럼들을 제거합니다.\n",
    "# 예시: PassengerId, Name, Ticket, Cabin\n",
    "cols_to_drop = []\n",
    "for col in ['PassengerId', 'Name', 'Ticket', 'Cabin']:\n",
    "    if col in df.columns:\n",
    "        cols_to_drop.append(col)\n",
    "        \n",
    "df.drop(columns=cols_to_drop, inplace=True)\n",
    "\n",
    "print(\"\\n제거 후 컬럼 리스트:\")\n",
    "print(df.columns)"
   ]
  },
  {
   "cell_type": "code",
   "execution_count": 13,
   "id": "d9ecc7e8-6d68-4eb2-ad33-49d8f623c0f6",
   "metadata": {},
   "outputs": [
    {
     "name": "stdout",
     "output_type": "stream",
     "text": [
      "\n",
      "변환 전 'label' 분포:\n",
      "label\n",
      "0    549\n",
      "1    342\n",
      "Name: count, dtype: int64\n",
      "\n",
      "인코딩 전 범주형 변수:\n",
      "Index(['Sex', 'Embarked'], dtype='object')\n",
      "\n",
      "데이터 변환 후 미리보기:\n",
      "   label  Pclass   Age  SibSp  Parch     Fare  Sex_male  Embarked_Q  \\\n",
      "0      0       3  22.0      1      0   7.2500      True       False   \n",
      "1      1       1  38.0      1      0  71.2833     False       False   \n",
      "2      1       3  26.0      0      0   7.9250     False       False   \n",
      "3      1       1  35.0      1      0  53.1000     False       False   \n",
      "4      0       3  35.0      0      0   8.0500      True       False   \n",
      "\n",
      "   Embarked_S  \n",
      "0        True  \n",
      "1       False  \n",
      "2        True  \n",
      "3        True  \n",
      "4        True  \n"
     ]
    }
   ],
   "source": [
    "# 6. 엔코딩 (숫자 변환)\n",
    "# 범주형 변수(예: Sex, Embarked 등)를 더미 변수로 변환합니다.\n",
    "# 변환 전 레이블 분포도 확인\n",
    "print(\"\\n변환 전 'label' 분포:\")\n",
    "print(df['label'].value_counts())\n",
    "\n",
    "# 범주형 변수 인코딩: 만약 Sex, Embarked 등 존재하면 get_dummies를 사용\n",
    "categorical_cols = df.select_dtypes(include=['object']).columns\n",
    "print(\"\\n인코딩 전 범주형 변수:\")\n",
    "print(categorical_cols)\n",
    "\n",
    "df = pd.get_dummies(df, columns=categorical_cols, drop_first=True)\n",
    "\n",
    "# 변환 후 데이터 미리보기\n",
    "print(\"\\n데이터 변환 후 미리보기:\")\n",
    "print(df.head())\n"
   ]
  },
  {
   "cell_type": "code",
   "execution_count": 15,
   "id": "480d8f9c-c12d-4abd-bf8b-66708c6662a9",
   "metadata": {},
   "outputs": [
    {
     "name": "stdout",
     "output_type": "stream",
     "text": [
      "\n",
      "모델: Random Forest\n",
      "정확도: 0.8044692737430168\n",
      "Confusion Matrix:\n",
      "[[90 15]\n",
      " [20 54]]\n",
      "\n",
      "모델: Decision Tree\n",
      "정확도: 0.7932960893854749\n",
      "Confusion Matrix:\n",
      "[[88 17]\n",
      " [20 54]]\n",
      "\n",
      "모델: Logistic Regression\n",
      "정확도: 0.8100558659217877\n",
      "Confusion Matrix:\n",
      "[[90 15]\n",
      " [19 55]]\n",
      "\n",
      "모델: KNN\n",
      "정확도: 0.7039106145251397\n",
      "Confusion Matrix:\n",
      "[[86 19]\n",
      " [34 40]]\n",
      "\n",
      "모델: SVM\n",
      "정확도: 0.659217877094972\n",
      "Confusion Matrix:\n",
      "[[99  6]\n",
      " [55 19]]\n"
     ]
    },
    {
     "name": "stderr",
     "output_type": "stream",
     "text": [
      "C:\\Users\\user\\anaconda3\\Lib\\site-packages\\sklearn\\linear_model\\_logistic.py:469: ConvergenceWarning: lbfgs failed to converge (status=1):\n",
      "STOP: TOTAL NO. of ITERATIONS REACHED LIMIT.\n",
      "\n",
      "Increase the number of iterations (max_iter) or scale the data as shown in:\n",
      "    https://scikit-learn.org/stable/modules/preprocessing.html\n",
      "Please also refer to the documentation for alternative solver options:\n",
      "    https://scikit-learn.org/stable/modules/linear_model.html#logistic-regression\n",
      "  n_iter_i = _check_optimize_result(\n"
     ]
    }
   ],
   "source": [
    "# 7. 5가지 분류 모델 (RF, DT, LR, KNN, SVM) 학습 및 평가\n",
    "from sklearn.model_selection import train_test_split\n",
    "from sklearn.metrics import accuracy_score, confusion_matrix\n",
    "\n",
    "# X: feature, y: label\n",
    "X = df.drop('label', axis=1)\n",
    "y = df['label']\n",
    "\n",
    "# 학습/테스트 데이터 분할 (예: 80% train, 20% test)\n",
    "X_train, X_test, y_train, y_test = train_test_split(X, y, test_size=0.2, random_state=42)\n",
    "\n",
    "# 각 모델별 성능을 저장할 리스트\n",
    "results = {}\n",
    "\n",
    "# (1) Random Forest\n",
    "from sklearn.ensemble import RandomForestClassifier\n",
    "rf = RandomForestClassifier(random_state=42)\n",
    "rf.fit(X_train, y_train)\n",
    "y_pred = rf.predict(X_test)\n",
    "results['Random Forest'] = {\n",
    "    \"accuracy\": accuracy_score(y_test, y_pred),\n",
    "    \"confusion_matrix\": confusion_matrix(y_test, y_pred)\n",
    "}\n",
    "\n",
    "# (2) Decision Tree\n",
    "from sklearn.tree import DecisionTreeClassifier\n",
    "dt = DecisionTreeClassifier(random_state=42)\n",
    "dt.fit(X_train, y_train)\n",
    "y_pred = dt.predict(X_test)\n",
    "results['Decision Tree'] = {\n",
    "    \"accuracy\": accuracy_score(y_test, y_pred),\n",
    "    \"confusion_matrix\": confusion_matrix(y_test, y_pred)\n",
    "}\n",
    "\n",
    "# (3) Logistic Regression\n",
    "from sklearn.linear_model import LogisticRegression\n",
    "lr = LogisticRegression(max_iter=200, random_state=42)\n",
    "lr.fit(X_train, y_train)\n",
    "y_pred = lr.predict(X_test)\n",
    "results['Logistic Regression'] = {\n",
    "    \"accuracy\": accuracy_score(y_test, y_pred),\n",
    "    \"confusion_matrix\": confusion_matrix(y_test, y_pred)\n",
    "}\n",
    "\n",
    "# (4) K-Nearest Neighbors\n",
    "from sklearn.neighbors import KNeighborsClassifier\n",
    "knn = KNeighborsClassifier()\n",
    "knn.fit(X_train, y_train)\n",
    "y_pred = knn.predict(X_test)\n",
    "results['KNN'] = {\n",
    "    \"accuracy\": accuracy_score(y_test, y_pred),\n",
    "    \"confusion_matrix\": confusion_matrix(y_test, y_pred)\n",
    "}\n",
    "\n",
    "# (5) Support Vector Machine\n",
    "from sklearn.svm import SVC\n",
    "svm = SVC(random_state=42)\n",
    "svm.fit(X_train, y_train)\n",
    "y_pred = svm.predict(X_test)\n",
    "results['SVM'] = {\n",
    "    \"accuracy\": accuracy_score(y_test, y_pred),\n",
    "    \"confusion_matrix\": confusion_matrix(y_test, y_pred)\n",
    "}\n",
    "\n",
    "# 결과 출력\n",
    "for model_name, metrics in results.items():\n",
    "    print(f\"\\n모델: {model_name}\")\n",
    "    print(\"정확도:\", metrics[\"accuracy\"])\n",
    "    print(\"Confusion Matrix:\")\n",
    "    print(metrics[\"confusion_matrix\"])\n"
   ]
  },
  {
   "cell_type": "code",
   "execution_count": null,
   "id": "1717138e-2869-49b8-8d2d-c3c565e45615",
   "metadata": {},
   "outputs": [],
   "source": []
  }
 ],
 "metadata": {
  "kernelspec": {
   "display_name": "Python [conda env:base] *",
   "language": "python",
   "name": "conda-base-py"
  },
  "language_info": {
   "codemirror_mode": {
    "name": "ipython",
    "version": 3
   },
   "file_extension": ".py",
   "mimetype": "text/x-python",
   "name": "python",
   "nbconvert_exporter": "python",
   "pygments_lexer": "ipython3",
   "version": "3.12.7"
  }
 },
 "nbformat": 4,
 "nbformat_minor": 5
}
